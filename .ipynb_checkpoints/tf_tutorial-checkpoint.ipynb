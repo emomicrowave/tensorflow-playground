{
 "cells": [
  {
   "cell_type": "markdown",
   "metadata": {},
   "source": [
    "# Introduction to TensorFlow with Python\n",
    "\n",
    "TensorFlow:\n",
    "- Developed by Google Brain\n",
    "- Open Source\n",
    "- Data flow graphs\n",
    "- Mainly used for neural networks and deep learning\n",
    "- Can use the GPU to train much faster\n",
    "- Numerous APIs to make building neural networks and optimizers easy\n",
    "- deploy on CPUs or GPUs on desktops or servers\n",
    "\n",
    "![TF dataflow graph](images/tensors_flowing.gif)\n",
    "\n",
    "### Installing TensorFlow\n",
    "\n",
    "- `pip install tensorflow` for the CPU version\n",
    "\n",
    "\n",
    "- require GPU with CUDA support version 3.0 or higher\n",
    "- install CUDA\n",
    "- install CUDNN\n",
    "- `pip install tensorflow-gpu`\n",
    "\n",
    "\n",
    "- more information in the Confluence article and at [tensorflow.org](https://tensorflow.org)"
   ]
  },
  {
   "cell_type": "code",
   "execution_count": 7,
   "metadata": {},
   "outputs": [
    {
     "data": {
      "text/plain": [
       "<tf.Tensor 'Mul_2:0' shape=() dtype=float32>"
      ]
     },
     "execution_count": 7,
     "metadata": {},
     "output_type": "execute_result"
    }
   ],
   "source": [
    "import tensorflow as tf\n",
    "\n",
    "a = tf.constant(3.0)\n",
    "b = tf.constant(5.0)\n",
    "c = tf.multiply(a,b)\n",
    "\n",
    "c"
   ]
  },
  {
   "cell_type": "code",
   "execution_count": 6,
   "metadata": {},
   "outputs": [
    {
     "data": {
      "text/plain": [
       "15.0"
      ]
     },
     "execution_count": 6,
     "metadata": {},
     "output_type": "execute_result"
    }
   ],
   "source": [
    "sess = tf.Session()\n",
    "sess.run(c)"
   ]
  },
  {
   "cell_type": "code",
   "execution_count": null,
   "metadata": {
    "collapsed": true
   },
   "outputs": [],
   "source": []
  }
 ],
 "metadata": {
  "kernelspec": {
   "display_name": "Python 3",
   "language": "python",
   "name": "python3"
  },
  "language_info": {
   "codemirror_mode": {
    "name": "ipython",
    "version": 3
   },
   "file_extension": ".py",
   "mimetype": "text/x-python",
   "name": "python",
   "nbconvert_exporter": "python",
   "pygments_lexer": "ipython3",
   "version": "3.6.1"
  }
 },
 "nbformat": 4,
 "nbformat_minor": 2
}
